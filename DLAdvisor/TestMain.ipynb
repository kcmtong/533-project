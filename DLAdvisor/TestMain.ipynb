{
 "cells": [
  {
   "cell_type": "code",
   "execution_count": 9,
   "id": "825bc076-1aef-45a9-b5a6-ebe9bd9cc51d",
   "metadata": {},
   "outputs": [],
   "source": [
    "### THIS IS A TESTING MODULE ONLY ###"
   ]
  },
  {
   "cell_type": "code",
   "execution_count": 4,
   "id": "4bb477b8-732e-4229-8a00-76dbefbd938b",
   "metadata": {},
   "outputs": [],
   "source": [
    "from ProfileBuilder import UserProfile, Collector\n",
    "uprofile = UserProfile.UserProfile(\"joHN\",20,True,False,3)"
   ]
  },
  {
   "cell_type": "code",
   "execution_count": 5,
   "id": "cf565c1d-98cc-4bab-b7ca-139df23607e3",
   "metadata": {},
   "outputs": [
    {
     "name": "stdout",
     "output_type": "stream",
     "text": [
      "User Details \n",
      "Name : joHN\n",
      "Current ICBC License : Novice's License\n",
      "Is Reciprocal DL : Yes\n",
      "Foreign License from Reciprocal Countries : No\n"
     ]
    }
   ],
   "source": [
    "print(str(uprofile))"
   ]
  },
  {
   "cell_type": "code",
   "execution_count": 5,
   "id": "a546645c-ccf2-465c-9f10-de3da959968f",
   "metadata": {},
   "outputs": [
    {
     "name": "stdout",
     "output_type": "stream",
     "text": [
      "print from advisor\n"
     ]
    }
   ],
   "source": [
    "from Analyzer import Advisor\n",
    "Advisor.advisor_print()"
   ]
  },
  {
   "cell_type": "code",
   "execution_count": 25,
   "id": "69df85f9-f608-482b-84c8-c0bc026d75e0",
   "metadata": {},
   "outputs": [
    {
     "name": "stdout",
     "output_type": "stream",
     "text": [
      "print from advisor\n",
      "Good day!\n"
     ]
    }
   ],
   "source": [
    "from Analyzer import Advisor\n",
    "Advisor.advisor_print()\n",
    "Advisor.kttest1()"
   ]
  },
  {
   "cell_type": "code",
   "execution_count": null,
   "id": "edafcd75-ba4b-4a19-8486-82a353b5a790",
   "metadata": {},
   "outputs": [],
   "source": []
  }
 ],
 "metadata": {
  "kernelspec": {
   "display_name": "Python 3 (ipykernel)",
   "language": "python",
   "name": "python3"
  },
  "language_info": {
   "codemirror_mode": {
    "name": "ipython",
    "version": 3
   },
   "file_extension": ".py",
   "mimetype": "text/x-python",
   "name": "python",
   "nbconvert_exporter": "python",
   "pygments_lexer": "ipython3",
   "version": "3.9.13"
  }
 },
 "nbformat": 4,
 "nbformat_minor": 5
}
