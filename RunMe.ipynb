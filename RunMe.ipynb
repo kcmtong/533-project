{
 "cells": [
  {
   "cell_type": "code",
   "execution_count": 1,
   "id": "17756c9e-b4ee-4505-9d57-2f8ffed72e9b",
   "metadata": {},
   "outputs": [
    {
     "name": "stdout",
     "output_type": "stream",
     "text": [
      "Greeting pending....Good day!\n"
     ]
    },
    {
     "name": "stdin",
     "output_type": "stream",
     "text": [
      "How old are you :  45\n"
     ]
    },
    {
     "name": "stdout",
     "output_type": "stream",
     "text": [
      "Great! you are eligible to proceed!\n",
      "Collected User Profile\n",
      "######User Details \n",
      "Name : Robot\n",
      "Current ICBC License : Learner's License\n",
      "Is Reciprocal DL : Yes\n",
      "Foreign License from Reciprocal Countries : Yes\n",
      "######\n",
      "Analyzing...\n"
     ]
    },
    {
     "name": "stderr",
     "output_type": "stream",
     "text": [
      "100%|██████████| 5/5 [00:02<00:00,  1.95it/s]"
     ]
    },
    {
     "name": "stdout",
     "output_type": "stream",
     "text": [
      "Here are your suggested resources to pass the ICBC Knowledge Test\n",
      "##########\n",
      "Resource Category : Preparatory Resources\n",
      "Resouces List : \n",
      "- Learn stage 1/Knowledge Test [MISC] : http://www.stage1.com\n",
      "- Kelowna Best Driving School [MISC] : https://threebestrated.ca/driving-schools-in-kelowna-bc\n",
      "- BC Driving Tips [YOUTUBE] : https://www.youtube.com/watch?v=UohMY0CT_V8\n",
      "\n",
      "Resource Category : Online Services Resources\n",
      "Resouces List : \n",
      "- Learn stage 1/Knowledge Test OL [MISC] : http://www.stage1.com\n",
      "########\n"
     ]
    },
    {
     "name": "stderr",
     "output_type": "stream",
     "text": [
      "\n"
     ]
    }
   ],
   "source": [
    "### THIS IS THE MAIN APPLICATION CALL ###\n",
    "from DLAdvisor import Main\n",
    "Main.execute()\n",
    "## END"
   ]
  },
  {
   "cell_type": "code",
   "execution_count": null,
   "id": "2832c88b-1757-41b4-8209-32059ed547c4",
   "metadata": {},
   "outputs": [],
   "source": []
  }
 ],
 "metadata": {
  "kernelspec": {
   "display_name": "Python 3 (ipykernel)",
   "language": "python",
   "name": "python3"
  },
  "language_info": {
   "codemirror_mode": {
    "name": "ipython",
    "version": 3
   },
   "file_extension": ".py",
   "mimetype": "text/x-python",
   "name": "python",
   "nbconvert_exporter": "python",
   "pygments_lexer": "ipython3",
   "version": "3.9.13"
  }
 },
 "nbformat": 4,
 "nbformat_minor": 5
}
