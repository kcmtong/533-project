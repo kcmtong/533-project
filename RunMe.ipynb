{
 "cells": [
  {
   "cell_type": "code",
   "execution_count": 3,
   "id": "17756c9e-b4ee-4505-9d57-2f8ffed72e9b",
   "metadata": {},
   "outputs": [
    {
     "name": "stdout",
     "output_type": "stream",
     "text": [
      "Good morning!\n"
     ]
    },
    {
     "name": "stdin",
     "output_type": "stream",
     "text": [
      "Are you a BC resident?[Y/N] Y\n",
      "What is your full name? Nowshs\n",
      "Enter your date of birth?[DD/MM/YYYY] 18/7/1980\n",
      "Which ICBC driver licence you have? [Enter 0 for None, 1 for Learners, 2 for Novice] 1\n"
     ]
    },
    {
     "name": "stdout",
     "output_type": "stream",
     "text": [
      "Great! you are eligible to proceed!\n",
      "Here is your profile summary\n",
      "######User Details \n",
      "Name : Nowshs\n",
      "Current ICBC License : Learner's License\n",
      "Want to exchange : No\n",
      "Foreign License from Reciprocal Country: No\n",
      "Advicing Stage: 2\n",
      "######\n",
      "Analyzing...\n"
     ]
    },
    {
     "name": "stderr",
     "output_type": "stream",
     "text": [
      "100%|█████████████████████████████████████████████| 5/5 [00:02<00:00,  1.98it/s]"
     ]
    },
    {
     "name": "stdout",
     "output_type": "stream",
     "text": [
      "Here are your suggested resources to pass the ICBC Road Test 5\n",
      "##########\n",
      "Resource Category : Preparatory Resources\n",
      "Resouces List : \n",
      "- Learn stage 2/RoadTest7 [ICBC Official] : https://www.icbc.com/driver-licensing/new-drivers/Pages/Get-your-N.aspx\n",
      "- Book a Road Test [ICBC Official] : https://onlinebusiness.icbc.com/webdeas-ui/home\n",
      "- Learn to Drive Smart [ICBC Official] : https://www.icbc.com/driver-licensing/driving-guides/Pages/Learn-to-Drive-Smart.aspx\n",
      "- Kelowna Best Driving School [MISC] : https://threebestrated.ca/driving-schools-in-kelowna-bc\n",
      "- BC Driving Tips [YOUTUBE] : https://www.youtube.com/watch?v=UohMY0CT_V8\n",
      "\n",
      "Resource Category : Online Services Resources\n",
      "Resouces List : \n",
      "- Learn stage 2/RoadTest7 OL [ICBC Official] : https://www.icbc.com/driver-licensing/new-drivers/Pages/Get-your-N.aspx\n",
      "- Book Road Test [ICBC Official] : https://onlinebusiness.icbc.com/webdeas-ui/home\n",
      "- ICBC Office Locator [ICBC Official] : https://www.icbc.com/locators/Pages/default.aspx?type=1&subtype=0\n",
      "########\n"
     ]
    },
    {
     "name": "stderr",
     "output_type": "stream",
     "text": [
      "\n"
     ]
    }
   ],
   "source": [
    "### THIS IS THE MAIN APPLICATION CALL ###\n",
    "from DLAdvisor import Main\n",
    "Main.execute()\n",
    "## END"
   ]
  },
  {
   "cell_type": "code",
   "execution_count": null,
   "id": "66e99774-adde-4cc6-bd76-757998063abd",
   "metadata": {},
   "outputs": [],
   "source": []
  }
 ],
 "metadata": {
  "kernelspec": {
   "display_name": "Python 3 (ipykernel)",
   "language": "python",
   "name": "python3"
  },
  "language_info": {
   "codemirror_mode": {
    "name": "ipython",
    "version": 3
   },
   "file_extension": ".py",
   "mimetype": "text/x-python",
   "name": "python",
   "nbconvert_exporter": "python",
   "pygments_lexer": "ipython3",
   "version": "3.9.13"
  }
 },
 "nbformat": 4,
 "nbformat_minor": 5
}
