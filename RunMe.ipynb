{
 "cells": [
  {
   "cell_type": "code",
   "execution_count": 6,
   "id": "17756c9e-b4ee-4505-9d57-2f8ffed72e9b",
   "metadata": {},
   "outputs": [
    {
     "name": "stdout",
     "output_type": "stream",
     "text": [
      "Good evening!\n"
     ]
    },
    {
     "name": "stdin",
     "output_type": "stream",
     "text": [
      "Are you a BC resident?[Y/N] Y\n",
      "What is your full name? dgjhf\n",
      "Enter your date of birth?[DD/MM/YYYY] 1/1/1\n",
      "Which ICBC driver licence you have? [Enter 0 for None, 1 for Learners, 2 for Novice] 0\n",
      "Do you want to exchange your other licence? [Yes/No] Yes\n",
      "Is your license from a reciprocal country? [Yes/No] No\n",
      "Did you pass ICBC Knowledge Test? [Yes/No] Yes\n"
     ]
    },
    {
     "name": "stdout",
     "output_type": "stream",
     "text": [
      "Great! you are eligible to proceed!\n",
      "Here is your profile summary\n",
      "######User Details \n",
      "Name : Dgjhf\n",
      "Current ICBC License : None\n",
      "Want to exchange : Yes\n",
      "Foreign License from Reciprocal Country: No\n",
      "Advising Stage: 3\n",
      "######\n",
      "Analyzing...\n"
     ]
    },
    {
     "name": "stderr",
     "output_type": "stream",
     "text": [
      "100%|█████████████████████████████████████████████| 5/5 [00:02<00:00,  1.98it/s]"
     ]
    },
    {
     "name": "stdout",
     "output_type": "stream",
     "text": [
      "Here are your suggested resources to pass the ICBC Road Test 7\n",
      "##########\n",
      "Resource Category : Preparatory Resources\n",
      "Resouces List : \n",
      "- Learn stage 3/RoadTest5 [ICBC Official] : https://www.icbc.com/driver-licensing/new-drivers/Pages/Get-your-full-licence.aspx\n",
      "- Book a Road Test [ICBC Official] : https://onlinebusiness.icbc.com/webdeas-ui/home\n",
      "- Learn to Drive Smart [ICBC Official] : https://www.icbc.com/driver-licensing/driving-guides/Pages/Learn-to-Drive-Smart.aspx\n",
      "- Kelowna Best Driving School [MISC] : https://threebestrated.ca/driving-schools-in-kelowna-bc\n",
      "- BC Driving Tips [YOUTUBE] : https://www.youtube.com/watch?v=UohMY0CT_V8\n",
      "\n",
      "Resource Category : Online Services Resources\n",
      "Resouces List : \n",
      "- Learn stage 3/RoadTest5 OL [ICBC Official] : https://www.icbc.com/driver-licensing/new-drivers/Pages/Get-your-full-licence.aspx\n",
      "- Book Road Test [ICBC Official] : https://onlinebusiness.icbc.com/webdeas-ui/home\n",
      "- ICBC Office Locator [ICBC Official] : https://www.icbc.com/locators/Pages/default.aspx?type=1&subtype=0\n",
      "########\n"
     ]
    },
    {
     "name": "stderr",
     "output_type": "stream",
     "text": [
      "\n"
     ]
    }
   ],
   "source": [
    "### THIS IS THE MAIN APPLICATION CALL ###\n",
    "from DLAdvisor import Main\n",
    "Main.execute()\n",
    "## END"
   ]
  },
  {
   "cell_type": "markdown",
   "id": "25df3258-e30f-49af-b33a-3316753c2d41",
   "metadata": {},
   "source": [
    "#### Test Case: Advice\n",
    "The most important function in the Advisor.py module is the Advice, which advices the user for next course of action based on user profiling. There are 4 stages which is determined after taking input from the users deomstrated as below:\n",
    "##### 1=No ICBC driving license (Opt for Learner's License)\n",
    "##### 2=Learner's to Novice (Opt for Novice License)\n",
    "##### 3=Novice to Full License (Opt for Full License)\n",
    "##### 4=Exchanage license (Opt for Exchange)\n",
    "So we pass the stage to this function and the function returns next course of action with Preparatory Resources and Online Resources."
   ]
  },
  {
   "cell_type": "code",
   "execution_count": 2,
   "id": "1f0d3584-57aa-4eb7-ba15-d8cffe244bdd",
   "metadata": {},
   "outputs": [
    {
     "name": "stdout",
     "output_type": "stream",
     "text": [
      "Here are your suggested resources to pass the ICBC Knowledge Test\n",
      "##########\n",
      "Resource Category : Preparatory Resources\n",
      "Resouces List : \n",
      "- Learn stage 1/Knowledge Test [ICBC Official] : https://www.icbc.com/driver-licensing/new-drivers/Pages/Get-your-L.aspx\n",
      "- Book Appointment for Knowledge Test [MISC] : https://appointments.servicebc.gov.bc.ca/appointment\n",
      "- Practice Knowledge Test [ICBC Official] : https://www.icbc.com/driver-licensing/new-drivers/Pages/practice-knowledge-test.aspx\n",
      "- Download ICBC Apps for iOS [MISC] : https://apps.apple.com/ca/app/icbc-practice-knowledge-test/id438491857\n",
      "- Download ICBC Apps for Android [MISC] : https://play.google.com/store/apps/details?id=com.icbc.knowledge\n",
      "- Learn to Drive Smart [ICBC Official] : https://www.icbc.com/driver-licensing/driving-guides/Pages/Learn-to-Drive-Smart.aspx\n",
      "- Kelowna Best Driving School [MISC] : https://threebestrated.ca/driving-schools-in-kelowna-bc\n",
      "- BC Driving Tips [YOUTUBE] : https://www.youtube.com/watch?v=UohMY0CT_V8\n",
      "\n",
      "Resource Category : Online Services Resources\n",
      "Resouces List : \n",
      "- Learn stage 1/Knowledge Test OL [ICBC Official] : https://www.icbc.com/driver-licensing/new-drivers/Pages/Get-your-L.aspx\n",
      "- ICBC Office Locator [ICBC Official] : https://www.icbc.com/locators/Pages/default.aspx?type=1&subtype=0\n",
      "########\n"
     ]
    }
   ],
   "source": [
    "import DLAdvisor.Analyzer.Advisor as ads\n",
    "obj = ads.advice(1)"
   ]
  },
  {
   "cell_type": "markdown",
   "id": "bc5da542-040c-45ec-b86c-2d3fa7a61c61",
   "metadata": {},
   "source": [
    "#### Test Case: Resource\n",
    "The most important function in the Resource.py module is the checkResourceType, which populates if the provided resources are from ICBC or YouTube or PSD or MISC resource. So we pass the link to this function and the function returns what type of resource it is."
   ]
  },
  {
   "cell_type": "code",
   "execution_count": 3,
   "id": "66e99774-adde-4cc6-bd76-757998063abd",
   "metadata": {},
   "outputs": [
    {
     "data": {
      "text/plain": [
       "'ICBC Official'"
      ]
     },
     "execution_count": 3,
     "metadata": {},
     "output_type": "execute_result"
    }
   ],
   "source": [
    "import DLAdvisor.Analyzer.Resource as r\n",
    "obj = r.Resource(3,[\"https://www.icbc.com/driver-licensing/new-drivers/Pages/Get-your-L.aspx\",\"\",\"\"])\n",
    "obj.checkResourceType(\"https://www.icbc.com/driver-licensing/visit-dl-office/Pages/Book-a-road-test.aspx\")"
   ]
  }
 ],
 "metadata": {
  "kernelspec": {
   "display_name": "Python 3 (ipykernel)",
   "language": "python",
   "name": "python3"
  },
  "language_info": {
   "codemirror_mode": {
    "name": "ipython",
    "version": 3
   },
   "file_extension": ".py",
   "mimetype": "text/x-python",
   "name": "python",
   "nbconvert_exporter": "python",
   "pygments_lexer": "ipython3",
   "version": "3.9.13"
  }
 },
 "nbformat": 4,
 "nbformat_minor": 5
}
