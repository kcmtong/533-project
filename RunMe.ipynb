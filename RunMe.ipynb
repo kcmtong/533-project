{
 "cells": [
  {
   "cell_type": "code",
   "execution_count": 3,
   "id": "17756c9e-b4ee-4505-9d57-2f8ffed72e9b",
   "metadata": {},
   "outputs": [
    {
     "name": "stdout",
     "output_type": "stream",
     "text": [
      "Good morning!\n"
     ]
    },
    {
     "name": "stdin",
     "output_type": "stream",
     "text": [
      "Are you a BC resident?[Yes/No] Yes\n",
      "What is your full name? Nowshaba Durrani\n",
      "Enter your date of birth?[DD/MM/YYYY] 18/07/1980\n",
      "Where are you from? Canada/Your Country Name/Others Bangladesh\n",
      "Reciprocal country? [Yes/No] Yes\n",
      "Do you have a driving license? [Yes/No] Yes\n",
      "Driving license date [DD/MM/YYYY]: 18/12/2016\n"
     ]
    },
    {
     "name": "stdout",
     "output_type": "stream",
     "text": [
      "Nowshaba Durrani 's profile:\n",
      " Age: 42 \n",
      "From: Bangladesh \n",
      "Reciprocal Country: Yes \n",
      "Have License: Yes \n",
      "Driving years: 5\n",
      "Great! you are eligible to proceed!\n",
      "Here is your profile summary\n",
      "######User Details \n",
      "Name : Robot\n",
      "Current ICBC License : Learner's License\n",
      "Is Reciprocal DL : Yes\n",
      "Foreign License from Reciprocal Countries : Yes\n",
      "######\n",
      "Analyzing...\n"
     ]
    },
    {
     "name": "stderr",
     "output_type": "stream",
     "text": [
      "100%|█████████████████████████████████████████████| 5/5 [00:02<00:00,  1.97it/s]"
     ]
    },
    {
     "name": "stdout",
     "output_type": "stream",
     "text": [
      "Here are your suggested resources to pass the ICBC Knowledge Test\n",
      "##########\n",
      "Resource Category : Preparatory Resources\n",
      "Resouces List : \n",
      "- Learn stage 1/Knowledge Test [MISC] : http://www.stage1.com\n",
      "- Kelowna Best Driving School [MISC] : https://threebestrated.ca/driving-schools-in-kelowna-bc\n",
      "- BC Driving Tips [YOUTUBE] : https://www.youtube.com/watch?v=UohMY0CT_V8\n",
      "\n",
      "Resource Category : Online Services Resources\n",
      "Resouces List : \n",
      "- Learn stage 1/Knowledge Test OL [MISC] : http://www.stage1.com\n",
      "########\n"
     ]
    },
    {
     "name": "stderr",
     "output_type": "stream",
     "text": [
      "\n"
     ]
    }
   ],
   "source": [
    "### THIS IS THE MAIN APPLICATION CALL ###\n",
    "from DLAdvisor import Main\n",
    "Main.execute()\n",
    "## END"
   ]
  },
  {
   "cell_type": "code",
   "execution_count": null,
   "id": "66e99774-adde-4cc6-bd76-757998063abd",
   "metadata": {},
   "outputs": [],
   "source": []
  }
 ],
 "metadata": {
  "kernelspec": {
   "display_name": "Python 3 (ipykernel)",
   "language": "python",
   "name": "python3"
  },
  "language_info": {
   "codemirror_mode": {
    "name": "ipython",
    "version": 3
   },
   "file_extension": ".py",
   "mimetype": "text/x-python",
   "name": "python",
   "nbconvert_exporter": "python",
   "pygments_lexer": "ipython3",
   "version": "3.9.13"
  }
 },
 "nbformat": 4,
 "nbformat_minor": 5
}
